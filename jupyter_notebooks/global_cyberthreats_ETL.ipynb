{
 "cells": [
  {
   "cell_type": "code",
   "execution_count": null,
   "id": "83254b24",
   "metadata": {},
   "outputs": [],
   "source": [
    "# **Global Cyber Threats 2015-2024 data ETL**"
   ]
  },
  {
   "cell_type": "code",
   "execution_count": null,
   "id": "e7ea0643",
   "metadata": {},
   "outputs": [],
   "source": [
    "## Objectives\n",
    "\n",
    "*  \"Fetch data from Kaggle and save as raw data\"\n",
    "*  \"Transform the data to a clean format\"\n",
    "*  \"Load the clean data for further analysis\"\n",
    "*  \"Visualize the data to understand trends and patterns\"\n",
    "\n",
    "## Inputs\n",
    "\n",
    "* Kaggle dataset: \"Global Cyber Threats 2015-2024\" [https://www.kaggle.com/datasets/atharvasoundankar/global-cybersecurity-threats-2015-2024?resource=download]\n",
    "* Python libraries: pandas, numpy, matplotlib, seaborn, plotly\n",
    "\n"
   ]
  },
  {
   "cell_type": "code",
   "execution_count": 2,
   "id": "7d391141",
   "metadata": {},
   "outputs": [],
   "source": [
    "import pandas as pd\n",
    "import numpy as np"
   ]
  }
 ],
 "metadata": {
  "kernelspec": {
   "display_name": ".venv",
   "language": "python",
   "name": "python3"
  },
  "language_info": {
   "codemirror_mode": {
    "name": "ipython",
    "version": 3
   },
   "file_extension": ".py",
   "mimetype": "text/x-python",
   "name": "python",
   "nbconvert_exporter": "python",
   "pygments_lexer": "ipython3",
   "version": "3.12.8"
  }
 },
 "nbformat": 4,
 "nbformat_minor": 5
}
